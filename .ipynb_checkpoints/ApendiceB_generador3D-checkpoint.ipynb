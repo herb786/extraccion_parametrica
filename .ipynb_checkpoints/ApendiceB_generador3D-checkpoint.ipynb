{
 "cells": [
  {
   "cell_type": "code",
   "execution_count": null,
   "id": "5bef1d53-20b0-443e-b7e3-fecd698332b0",
   "metadata": {},
   "outputs": [],
   "source": [
    "import numpy as np\n",
    "import matplotlib.pyplot as plt\n",
    "import json"
   ]
  },
  {
   "cell_type": "code",
   "execution_count": null,
   "id": "bfa42f37-f65d-4c13-b179-149e3c4f22df",
   "metadata": {},
   "outputs": [],
   "source": [
    "entrada1 = 10.56 + 5.2*np.random.rand(30)\n",
    "entrada2 = 4.37 + 3.6*np.random.rand(30)\n",
    "entrada1.sort()\n",
    "entrada2.sort()\n",
    "salida = 15*entrada1 + np.random.rand(30)*entrada1*entrada2 + 1.34*np.random.rand(30) + 5.5*entrada2"
   ]
  },
  {
   "cell_type": "code",
   "execution_count": null,
   "id": "4df42c82-a26b-4b71-b6ee-3c90b2e00236",
   "metadata": {},
   "outputs": [],
   "source": [
    "fig = plt.figure()\n",
    "ax = fig.add_subplot(projection='3d')\n",
    "ax.scatter(entrada1, entrada2, salida, marker='^')\n",
    "plt.show()"
   ]
  },
  {
   "cell_type": "code",
   "execution_count": null,
   "id": "87c99fe2-ef8d-4aa3-8786-2c2904c1b7ac",
   "metadata": {},
   "outputs": [],
   "source": [
    "entrada1 = np.round(entrada1,4)\n",
    "entrada2 = np.round(entrada2,4)\n",
    "salida = np.round(salida,4)"
   ]
  },
  {
   "cell_type": "code",
   "execution_count": null,
   "id": "9d72b9bd-4cda-4689-ad33-e8cda3a309d8",
   "metadata": {},
   "outputs": [],
   "source": [
    "json.dumps(entrada1.tolist())"
   ]
  },
  {
   "cell_type": "code",
   "execution_count": null,
   "id": "69e1bba6-8193-42f0-9b69-3522811fecd4",
   "metadata": {},
   "outputs": [],
   "source": [
    "json.dumps(entrada2.tolist())"
   ]
  },
  {
   "cell_type": "code",
   "execution_count": null,
   "id": "16c777dd-e59f-4728-afca-84dda6a18b26",
   "metadata": {},
   "outputs": [],
   "source": [
    "json.dumps(salida.tolist())"
   ]
  },
  {
   "cell_type": "code",
   "execution_count": null,
   "id": "68dd0a26-890a-4b1c-ad3b-5a3c99980b6c",
   "metadata": {},
   "outputs": [],
   "source": [
    "entrada1 = entrada1.reshape(30,1)\n",
    "entrada2 = entrada2.reshape(30,1)\n",
    "salida = salida.reshape(30,1)"
   ]
  },
  {
   "cell_type": "code",
   "execution_count": null,
   "id": "03152cc3-666d-424a-91f8-e928e35276c4",
   "metadata": {},
   "outputs": [],
   "source": [
    "entrada = np.hstack((entrada1, entrada2))\n",
    "entrada"
   ]
  }
 ],
 "metadata": {
  "kernelspec": {
   "display_name": "Python 3 (ipykernel)",
   "language": "python",
   "name": "python3"
  },
  "language_info": {
   "codemirror_mode": {
    "name": "ipython",
    "version": 3
   },
   "file_extension": ".py",
   "mimetype": "text/x-python",
   "name": "python",
   "nbconvert_exporter": "python",
   "pygments_lexer": "ipython3",
   "version": "3.11.5"
  }
 },
 "nbformat": 4,
 "nbformat_minor": 5
}
