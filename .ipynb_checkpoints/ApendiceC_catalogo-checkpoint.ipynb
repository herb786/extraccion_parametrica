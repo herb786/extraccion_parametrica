{
 "cells": [
  {
   "cell_type": "code",
   "execution_count": 1,
   "id": "dc02c6ac-7aa2-441b-9a74-fd191d997f34",
   "metadata": {},
   "outputs": [],
   "source": [
    "import numpy as np\n",
    "import matplotlib.pyplot as plt\n",
    "import json"
   ]
  },
  {
   "cell_type": "code",
   "execution_count": 12,
   "id": "d5f1fc6a-c1b3-4da2-952f-1addb7f060ad",
   "metadata": {},
   "outputs": [],
   "source": [
    "entrada1 = np.random.rand(80)\n",
    "entrada2 = np.random.rand(80)\n",
    "entrada1 = entrada1.reshape(80,1)\n",
    "entrada2 = entrada2.reshape(80,1)\n",
    "entrada = np.hstack((np.round(entrada1,3), np.round(entrada2,3)))"
   ]
  },
  {
   "cell_type": "code",
   "execution_count": 13,
   "id": "1e0103b8-d541-4aa9-a245-5c62b0dfcba3",
   "metadata": {},
   "outputs": [],
   "source": [
    "salida = []\n",
    "for e in entrada:\n",
    "    if e[0] > 0.5:\n",
    "        if e[1] > 0.5:\n",
    "            salida.append(0)\n",
    "        else:\n",
    "            salida.append(1)\n",
    "    else:\n",
    "        if e[1] > 0.5:\n",
    "            salida.append(2)\n",
    "        else:\n",
    "            salida.append(3)"
   ]
  },
  {
   "cell_type": "code",
   "execution_count": 14,
   "id": "e1da8b79-b33a-47b1-b0a1-334953bd142f",
   "metadata": {},
   "outputs": [
    {
     "data": {
      "text/plain": [
       "'[3, 2, 1, 2, 3, 1, 3, 2, 1, 3, 3, 2, 1, 3, 0, 1, 2, 2, 3, 1, 0, 0, 1, 0, 2, 3, 3, 0, 1, 3, 1, 3, 1, 0, 2, 3, 1, 1, 3, 2, 1, 0, 0, 2, 0, 1, 0, 3, 2, 3, 3, 1, 0, 2, 0, 1, 3, 2, 0, 3, 2, 0, 2, 2, 2, 0, 0, 1, 1, 0, 2, 1, 3, 2, 0, 0, 2, 0, 0, 1]'"
      ]
     },
     "execution_count": 14,
     "metadata": {},
     "output_type": "execute_result"
    }
   ],
   "source": [
    "json.dumps(salida)"
   ]
  },
  {
   "cell_type": "code",
   "execution_count": 15,
   "id": "7ca34e85-d13e-4a0f-8388-2835df25ab0e",
   "metadata": {},
   "outputs": [
    {
     "data": {
      "text/plain": [
       "'[[0.311, 0.385], [0.275, 0.511], [0.632, 0.119], [0.227, 0.864], [0.13, 0.199], [0.532, 0.318], [0.116, 0.089], [0.384, 0.866], [0.771, 0.098], [0.164, 0.474], [0.179, 0.246], [0.114, 0.614], [0.945, 0.241], [0.299, 0.306], [0.795, 0.743], [0.563, 0.208], [0.061, 0.833], [0.059, 0.826], [0.462, 0.208], [0.577, 0.422], [0.61, 0.68], [0.71, 0.989], [0.87, 0.173], [0.928, 0.753], [0.32, 0.998], [0.261, 0.417], [0.076, 0.426], [0.646, 0.558], [0.931, 0.167], [0.282, 0.077], [0.505, 0.221], [0.176, 0.137], [0.513, 0.46], [0.571, 0.9], [0.339, 0.825], [0.423, 0.479], [0.701, 0.367], [0.983, 0.312], [0.243, 0.252], [0.371, 0.832], [0.614, 0.428], [0.504, 0.646], [0.909, 0.642], [0.266, 0.541], [0.534, 0.809], [0.903, 0.258], [0.801, 0.762], [0.168, 0.457], [0.219, 0.853], [0.329, 0.415], [0.273, 0.188], [0.705, 0.346], [0.548, 0.529], [0.401, 0.919], [0.691, 0.655], [0.905, 0.027], [0.12, 0.232], [0.333, 0.775], [0.755, 0.793], [0.322, 0.208], [0.243, 0.976], [0.781, 0.95], [0.138, 0.794], [0.499, 0.678], [0.059, 0.788], [0.874, 0.978], [0.625, 0.685], [0.94, 0.09], [0.974, 0.452], [0.759, 0.523], [0.08, 0.614], [0.533, 0.347], [0.039, 0.194], [0.496, 0.747], [0.902, 0.703], [0.807, 0.709], [0.136, 0.675], [0.572, 0.959], [0.853, 0.716], [0.707, 0.409]]'"
      ]
     },
     "execution_count": 15,
     "metadata": {},
     "output_type": "execute_result"
    }
   ],
   "source": [
    "json.dumps(entrada.tolist())"
   ]
  },
  {
   "cell_type": "code",
   "execution_count": null,
   "id": "488eae44-0763-4e67-9de8-3462e639559e",
   "metadata": {},
   "outputs": [],
   "source": []
  }
 ],
 "metadata": {
  "kernelspec": {
   "display_name": "Python 3 (ipykernel)",
   "language": "python",
   "name": "python3"
  },
  "language_info": {
   "codemirror_mode": {
    "name": "ipython",
    "version": 3
   },
   "file_extension": ".py",
   "mimetype": "text/x-python",
   "name": "python",
   "nbconvert_exporter": "python",
   "pygments_lexer": "ipython3",
   "version": "3.11.5"
  }
 },
 "nbformat": 4,
 "nbformat_minor": 5
}
