{
 "cells": [
  {
   "cell_type": "code",
   "execution_count": 1,
   "id": "09eb39b5-635b-49c6-8cb5-fde5cc8f0538",
   "metadata": {},
   "outputs": [],
   "source": [
    "import numpy as np\n",
    "import matplotlib.pyplot as plt\n",
    "import json"
   ]
  },
  {
   "cell_type": "code",
   "execution_count": 24,
   "id": "9c689abd-3a91-4938-bbfc-9684ae76fea0",
   "metadata": {},
   "outputs": [],
   "source": [
    "muestras = 15\n",
    "t1 = 2*np.pi*np.random.rand(muestras)\n",
    "t2 = 20*np.random.rand(muestras)\n",
    "entrada1 = 40 + t2*np.cos(t1)\n",
    "entrada2 = 30 + t2*np.sin(t1)\n",
    "t1 = 2*np.pi*np.random.rand(muestras)\n",
    "t2 = 15*np.random.rand(muestras)\n",
    "entrada1 = np.append(entrada1, 40 + t2*np.cos(t1)) \n",
    "entrada2 = np.append(entrada2, 60 + t2*np.sin(t1)) \n",
    "t1 = 2*np.pi*np.random.rand(muestras)\n",
    "t2 = 15*np.random.rand(muestras)\n",
    "entrada1 = np.append(entrada1, 60 + t2*np.cos(t1)) \n",
    "entrada2 = np.append(entrada2, 30 + t2*np.sin(t1)) "
   ]
  },
  {
   "cell_type": "code",
   "execution_count": 25,
   "id": "2617938e-2e6b-41ea-964a-a21c24ad1018",
   "metadata": {},
   "outputs": [
    {
     "data": {
      "image/png": "[encoded data removed]",
      "text/plain": [
       "<Figure size 640x480 with 1 Axes>"
      ]
     },
     "metadata": {},
     "output_type": "display_data"
    }
   ],
   "source": [
    "plt.scatter(entrada1, entrada2)\n",
    "plt.show()"
   ]
  },
  {
   "cell_type": "code",
   "execution_count": 26,
   "id": "8d24a722-7e9e-40d5-9241-a3cdb4f78553",
   "metadata": {},
   "outputs": [],
   "source": [
    "entrada1 = np.round(entrada1,1)\n",
    "entrada2 = np.round(entrada2,1)"
   ]
  },
  {
   "cell_type": "code",
   "execution_count": 27,
   "id": "ca1f2616-0847-4187-8ce2-dc98d7a028f8",
   "metadata": {},
   "outputs": [
    {
     "data": {
      "text/plain": [
       "'[24.2, 43.7, 58.5, 38.5, 46.2, 40.0, 57.4, 31.2, 55.4, 44.8, 38.9, 40.5, 39.4, 44.9, 39.8, 36.1, 45.7, 41.4, 44.7, 35.8, 35.7, 44.2, 45.2, 36.7, 42.8, 46.6, 42.3, 38.7, 50.1, 41.7, 57.9, 62.5, 59.0, 72.4, 62.8, 49.1, 51.4, 55.6, 63.6, 48.3, 53.0, 53.5, 70.5, 61.9, 70.7]'"
      ]
     },
     "execution_count": 27,
     "metadata": {},
     "output_type": "execute_result"
    }
   ],
   "source": [
    "json.dumps(entrada1.tolist())"
   ]
  },
  {
   "cell_type": "code",
   "execution_count": 28,
   "id": "57434c60-4588-4c72-9b70-b7d1a77756ad",
   "metadata": {},
   "outputs": [
    {
     "data": {
      "text/plain": [
       "'[20.8, 30.3, 27.5, 26.6, 23.2, 30.1, 20.9, 24.4, 27.7, 25.5, 28.4, 39.3, 34.9, 14.9, 11.8, 74.1, 55.0, 62.4, 61.0, 55.3, 60.1, 48.0, 55.4, 71.3, 59.6, 60.2, 46.1, 57.5, 60.4, 57.7, 34.4, 34.6, 25.9, 24.9, 17.7, 24.4, 35.7, 37.9, 28.5, 24.8, 34.1, 33.5, 29.7, 30.0, 25.2]'"
      ]
     },
     "execution_count": 28,
     "metadata": {},
     "output_type": "execute_result"
    }
   ],
   "source": [
    "json.dumps(entrada2.tolist())"
   ]
  },
  {
   "cell_type": "code",
   "execution_count": 29,
   "id": "a8056fad-3b35-4a76-b6e2-e3f0f8a0a9c2",
   "metadata": {},
   "outputs": [],
   "source": [
    "en1 = np.array(entrada1).reshape(muestras*3,1)\n",
    "en2 = np.array(entrada2).reshape(muestras*3,1)\n",
    "entrada = np.hstack((en1, en2))"
   ]
  },
  {
   "cell_type": "code",
   "execution_count": 30,
   "id": "b108d63a-103d-4146-b681-98d92a690b33",
   "metadata": {},
   "outputs": [
    {
     "data": {
      "text/plain": [
       "'[[24.2, 20.8], [43.7, 30.3], [58.5, 27.5], [38.5, 26.6], [46.2, 23.2], [40.0, 30.1], [57.4, 20.9], [31.2, 24.4], [55.4, 27.7], [44.8, 25.5], [38.9, 28.4], [40.5, 39.3], [39.4, 34.9], [44.9, 14.9], [39.8, 11.8], [36.1, 74.1], [45.7, 55.0], [41.4, 62.4], [44.7, 61.0], [35.8, 55.3], [35.7, 60.1], [44.2, 48.0], [45.2, 55.4], [36.7, 71.3], [42.8, 59.6], [46.6, 60.2], [42.3, 46.1], [38.7, 57.5], [50.1, 60.4], [41.7, 57.7], [57.9, 34.4], [62.5, 34.6], [59.0, 25.9], [72.4, 24.9], [62.8, 17.7], [49.1, 24.4], [51.4, 35.7], [55.6, 37.9], [63.6, 28.5], [48.3, 24.8], [53.0, 34.1], [53.5, 33.5], [70.5, 29.7], [61.9, 30.0], [70.7, 25.2]]'"
      ]
     },
     "execution_count": 30,
     "metadata": {},
     "output_type": "execute_result"
    }
   ],
   "source": [
    "json.dumps(entrada.tolist())"
   ]
  },
  {
   "cell_type": "code",
   "execution_count": 54,
   "id": "e1e34313-46ab-4eb3-96f1-2307b58a29bc",
   "metadata": {},
   "outputs": [],
   "source": [
    "salida = []\n",
    "for e in entrada:\n",
    "    if e[0] > 60:\n",
    "        if e[1] > 60:\n",
    "            salida.append(0)\n",
    "        else:\n",
    "            salida.append(0)\n",
    "    else:\n",
    "        if e[1] > 50:\n",
    "            salida.append(1)\n",
    "        else:\n",
    "            salida.append(2)"
   ]
  },
  {
   "cell_type": "code",
   "execution_count": 55,
   "id": "f423551d-8ff5-4e6f-84f1-2f8f1db296aa",
   "metadata": {},
   "outputs": [
    {
     "data": {
      "text/plain": [
       "'[2, 2, 2, 2, 2, 2, 2, 2, 2, 2, 2, 2, 2, 2, 2, 1, 1, 1, 1, 1, 1, 2, 1, 1, 1, 1, 2, 1, 1, 1, 2, 0, 2, 0, 0, 2, 2, 2, 0, 2, 2, 2, 0, 0, 0]'"
      ]
     },
     "execution_count": 55,
     "metadata": {},
     "output_type": "execute_result"
    }
   ],
   "source": [
    "json.dumps(salida)"
   ]
  },
  {
   "cell_type": "code",
   "execution_count": null,
   "id": "b7764fa6-ebe1-42bd-a8bd-80f203a78f85",
   "metadata": {},
   "outputs": [],
   "source": []
  }
 ],
 "metadata": {
  "kernelspec": {
   "display_name": "Python 3 (ipykernel)",
   "language": "python",
   "name": "python3"
  },
  "language_info": {
   "codemirror_mode": {
    "name": "ipython",
    "version": 3
   },
   "file_extension": ".py",
   "mimetype": "text/x-python",
   "name": "python",
   "nbconvert_exporter": "python",
   "pygments_lexer": "ipython3",
   "version": "3.11.5"
  }
 },
 "nbformat": 4,
 "nbformat_minor": 5
}
