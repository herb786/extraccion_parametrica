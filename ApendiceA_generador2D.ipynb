{
 "cells": [
  {
   "cell_type": "code",
   "execution_count": 44,
   "id": "564e0e82-e7bc-4978-958c-5fe5a3f66fce",
   "metadata": {},
   "outputs": [],
   "source": [
    "import numpy as np\n",
    "import matplotlib.pyplot as plt\n",
    "import json"
   ]
  },
  {
   "cell_type": "code",
   "execution_count": 39,
   "id": "c7ac1e33-742a-4128-af6c-1843804b1947",
   "metadata": {},
   "outputs": [],
   "source": [
    "entrada = 10.56 + 5.2*np.random.rand(30)\n",
    "salida = 15*entrada + np.random.rand(30)*entrada + 1.34*np.random.rand(30)"
   ]
  },
  {
   "cell_type": "code",
   "execution_count": 42,
   "id": "9824c8d1-7f3c-4cf2-8b1d-73f8e284a0ea",
   "metadata": {},
   "outputs": [],
   "source": [
    "# Datos suigéneris\n",
    "entrada[8] = 12.2\n",
    "salida[8] = 235.8\n",
    "entrada[20] = 14.5\n",
    "salida[20] = 175.2"
   ]
  },
  {
   "cell_type": "code",
   "execution_count": 43,
   "id": "8ce9e79d-50f7-4a3d-a038-18a55fa81638",
   "metadata": {},
   "outputs": [
    {
     "data": {
      "image/png": "[encoded data removed]",
      "text/plain": [
       "<Figure size 640x480 with 1 Axes>"
      ]
     },
     "metadata": {},
     "output_type": "display_data"
    }
   ],
   "source": [
    "plt.scatter(entrada, salida)\n",
    "plt.show()"
   ]
  },
  {
   "cell_type": "code",
   "execution_count": 47,
   "id": "6c3095e7-78be-4005-8642-948ace432e50",
   "metadata": {},
   "outputs": [
    {
     "name": "stdout",
     "output_type": "stream",
     "text": [
      "[12.7612 13.6485 13.1478 13.083  11.5287 12.4844 15.0756 13.304  12.2\n",
      " 12.1433 12.4155 12.7465 11.2785 13.2355 13.7312 14.2646 12.097  11.7031\n",
      " 15.4878 10.5718 14.5    11.9918 12.7646 13.2639 15.309  14.8242 11.8201\n",
      " 11.9288 14.1301 10.9936]\n"
     ]
    }
   ],
   "source": [
    "entrada = np.round(entrada,4)\n",
    "print(entrada)"
   ]
  },
  {
   "cell_type": "code",
   "execution_count": 48,
   "id": "4e918cd7-14e3-4072-813e-57f284f19760",
   "metadata": {},
   "outputs": [
    {
     "name": "stdout",
     "output_type": "stream",
     "text": [
      "[194.3777 218.354  199.1601 197.1771 176.4693 199.5988 234.7653 200.5837\n",
      " 235.8    185.5133 193.3814 198.5673 171.9937 209.5389 214.8253 222.4046\n",
      " 189.6184 187.0903 246.3096 162.8051 175.2    186.1781 195.7193 205.0429\n",
      " 235.877  225.5603 183.5358 190.4709 216.1854 170.9517]\n"
     ]
    }
   ],
   "source": [
    "salida = np.round(salida,4)\n",
    "print(salida)"
   ]
  },
  {
   "cell_type": "code",
   "execution_count": 51,
   "id": "0b50bef1-7bba-49d1-be12-848f058de9de",
   "metadata": {},
   "outputs": [
    {
     "data": {
      "text/plain": [
       "array([[12.7612],\n",
       "       [13.6485],\n",
       "       [13.1478],\n",
       "       [13.083 ],\n",
       "       [11.5287],\n",
       "       [12.4844],\n",
       "       [15.0756],\n",
       "       [13.304 ],\n",
       "       [12.2   ],\n",
       "       [12.1433],\n",
       "       [12.4155],\n",
       "       [12.7465],\n",
       "       [11.2785],\n",
       "       [13.2355],\n",
       "       [13.7312],\n",
       "       [14.2646],\n",
       "       [12.097 ],\n",
       "       [11.7031],\n",
       "       [15.4878],\n",
       "       [10.5718],\n",
       "       [14.5   ],\n",
       "       [11.9918],\n",
       "       [12.7646],\n",
       "       [13.2639],\n",
       "       [15.309 ],\n",
       "       [14.8242],\n",
       "       [11.8201],\n",
       "       [11.9288],\n",
       "       [14.1301],\n",
       "       [10.9936]])"
      ]
     },
     "execution_count": 51,
     "metadata": {},
     "output_type": "execute_result"
    }
   ],
   "source": [
    "entrada.reshape(30,1)"
   ]
  },
  {
   "cell_type": "code",
   "execution_count": null,
   "id": "e06cac1f-a989-4cfd-ae0e-d0040d2a6795",
   "metadata": {},
   "outputs": [],
   "source": []
  }
 ],
 "metadata": {
  "kernelspec": {
   "display_name": "Python 3 (ipykernel)",
   "language": "python",
   "name": "python3"
  },
  "language_info": {
   "codemirror_mode": {
    "name": "ipython",
    "version": 3
   },
   "file_extension": ".py",
   "mimetype": "text/x-python",
   "name": "python",
   "nbconvert_exporter": "python",
   "pygments_lexer": "ipython3",
   "version": "3.11.5"
  }
 },
 "nbformat": 4,
 "nbformat_minor": 5
}
