{
 "cells": [
  {
   "cell_type": "code",
   "execution_count": 1,
   "id": "21e3c199-e69d-4100-b333-a15e30682748",
   "metadata": {},
   "outputs": [
    {
     "data": {
      "text/plain": [
       "'\\nLos métodos para reconocer patrones y clasificar información se hacen más intrincados.\\nEstos se componen utilizando los métodos estudiados como es el caso del clasificador potenciado por gradientes\\n'"
      ]
     },
     "execution_count": 1,
     "metadata": {},
     "output_type": "execute_result"
    }
   ],
   "source": [
    "'''\n",
    "Los métodos para reconocer patrones y clasificar información se hacen más intrincados.\n",
    "Estos se componen utilizando los métodos estudiados como es el caso del clasificador potenciado por gradientes\n",
    "'''"
   ]
  },
  {
   "cell_type": "code",
   "execution_count": 2,
   "id": "a235e2d9-aeb9-48f2-b093-9166198ca458",
   "metadata": {},
   "outputs": [],
   "source": [
    "from sklearn.ensemble import GradientBoostingClassifier\n",
    "import matplotlib.pyplot as plt\n",
    "from matplotlib import cbook, cm\n",
    "import numpy as np"
   ]
  },
  {
   "cell_type": "code",
   "execution_count": 3,
   "id": "5365d5a8-f731-49b9-8533-423eb93d14f3",
   "metadata": {},
   "outputs": [],
   "source": [
    "# Estudiemos un supuesto mineral y lo sometemos a variaciones de temperatura y voltaje\n",
    "experimento = [[39.0, 24.0], [65.0, 11.0], [7.0, 59.0], [84.0, 62.0], [22.0, 93.0], [38.0, 59.0], [92.0, 22.0], [47.0, 90.0], [36.0, 89.0], [57.0, 89.0], [99.0, 13.0], [61.0, 35.0], [85.0, 59.0], [100.0, 46.0], [13.0, 76.0], [23.0, 95.0], [99.0, 18.0], [5.0, 31.0], [75.0, 78.0], [27.0, 54.0], [96.0, 73.0], [82.0, 64.0], [100.0, 68.0], [68.0, 45.0], [80.0, 90.0], [22.0, 30.0], [50.0, 40.0], [63.0, 26.0], [69.0, 51.0], [2.0, 9.0], [73.0, 74.0], [41.0, 33.0], [68.0, 16.0], [63.0, 7.0], [7.0, 91.0], [88.0, 77.0], [91.0, 31.0], [59.0, 38.0], [93.0, 49.0], [94.0, 30.0]]"
   ]
  },
  {
   "cell_type": "code",
   "execution_count": 4,
   "id": "9124233b-037c-46f1-b725-73e415046d79",
   "metadata": {},
   "outputs": [],
   "source": [
    "# El supuesto estudio detectó una dicotomía\n",
    "# Radiactivo con el cardinal 0\n",
    "# Irradiactivo con el cardinal 1\n",
    "salida = [0, 0, 1, 0, 1, 1, 0, 1, 1, 1, 0, 0, 0, 0, 1, 1, 0, 1, 0, 1, 0, 0, 0, 0, 0, 1, 0, 0, 0, 1, 0, 0, 0, 0, 1, 0, 0, 0, 0, 0]"
   ]
  },
  {
   "cell_type": "code",
   "execution_count": 5,
   "id": "11de9b61-77ee-4823-8556-3f0a622e30af",
   "metadata": {},
   "outputs": [
    {
     "data": {
      "image/png": "[encoded data removed]",
      "text/plain": [
       "<Figure size 640x480 with 2 Axes>"
      ]
     },
     "metadata": {},
     "output_type": "display_data"
    }
   ],
   "source": [
    "# Observemos la distribución de estas medidas en un plano cartesiano\n",
    "entrada = np.array(experimento)\n",
    "e1 = entrada.transpose()[0]\n",
    "e2 = entrada.transpose()[1]\n",
    "cs = plt.scatter(e1, e2, c=salida, cmap=cm.jet)\n",
    "plt.colorbar(cs)\n",
    "plt.show()"
   ]
  },
  {
   "cell_type": "code",
   "execution_count": 6,
   "id": "d8efdade-c029-4115-852a-7011ab68701f",
   "metadata": {},
   "outputs": [],
   "source": [
    "# Inicializamos la rutina del potenciador\n",
    "clf = GradientBoostingClassifier(n_estimators=100, learning_rate=1.0, max_depth=1, random_state=0)"
   ]
  },
  {
   "cell_type": "code",
   "execution_count": 7,
   "id": "dd1221ba-269e-4035-b7c4-3074392cdd95",
   "metadata": {},
   "outputs": [],
   "source": [
    "# Separamos parte de la información para validar el modelo\n",
    "entrada_ensayo, salida_ensayo = entrada[:30], salida[:30]\n",
    "entrada_validacion, salida_validacion = entrada[30:], salida[30:]"
   ]
  },
  {
   "cell_type": "code",
   "execution_count": 8,
   "id": "6e0c8c67-665a-4ac1-bf80-52babb337ab6",
   "metadata": {},
   "outputs": [
    {
     "data": {
      "text/html": [
       "<style>#sk-container-id-1 {color: black;}#sk-container-id-1 pre{padding: 0;}#sk-container-id-1 div.sk-toggleable {background-color: white;}#sk-container-id-1 label.sk-toggleable__label {cursor: pointer;display: block;width: 100%;margin-bottom: 0;padding: 0.3em;box-sizing: border-box;text-align: center;}#sk-container-id-1 label.sk-toggleable__label-arrow:before {content: \"▸\";float: left;margin-right: 0.25em;color: #696969;}#sk-container-id-1 label.sk-toggleable__label-arrow:hover:before {color: black;}#sk-container-id-1 div.sk-estimator:hover label.sk-toggleable__label-arrow:before {color: black;}#sk-container-id-1 div.sk-toggleable__content {max-height: 0;max-width: 0;overflow: hidden;text-align: left;background-color: #f0f8ff;}#sk-container-id-1 div.sk-toggleable__content pre {margin: 0.2em;color: black;border-radius: 0.25em;background-color: #f0f8ff;}#sk-container-id-1 input.sk-toggleable__control:checked~div.sk-toggleable__content {max-height: 200px;max-width: 100%;overflow: auto;}#sk-container-id-1 input.sk-toggleable__control:checked~label.sk-toggleable__label-arrow:before {content: \"▾\";}#sk-container-id-1 div.sk-estimator input.sk-toggleable__control:checked~label.sk-toggleable__label {background-color: #d4ebff;}#sk-container-id-1 div.sk-label input.sk-toggleable__control:checked~label.sk-toggleable__label {background-color: #d4ebff;}#sk-container-id-1 input.sk-hidden--visually {border: 0;clip: rect(1px 1px 1px 1px);clip: rect(1px, 1px, 1px, 1px);height: 1px;margin: -1px;overflow: hidden;padding: 0;position: absolute;width: 1px;}#sk-container-id-1 div.sk-estimator {font-family: monospace;background-color: #f0f8ff;border: 1px dotted black;border-radius: 0.25em;box-sizing: border-box;margin-bottom: 0.5em;}#sk-container-id-1 div.sk-estimator:hover {background-color: #d4ebff;}#sk-container-id-1 div.sk-parallel-item::after {content: \"\";width: 100%;border-bottom: 1px solid gray;flex-grow: 1;}#sk-container-id-1 div.sk-label:hover label.sk-toggleable__label {background-color: #d4ebff;}#sk-container-id-1 div.sk-serial::before {content: \"\";position: absolute;border-left: 1px solid gray;box-sizing: border-box;top: 0;bottom: 0;left: 50%;z-index: 0;}#sk-container-id-1 div.sk-serial {display: flex;flex-direction: column;align-items: center;background-color: white;padding-right: 0.2em;padding-left: 0.2em;position: relative;}#sk-container-id-1 div.sk-item {position: relative;z-index: 1;}#sk-container-id-1 div.sk-parallel {display: flex;align-items: stretch;justify-content: center;background-color: white;position: relative;}#sk-container-id-1 div.sk-item::before, #sk-container-id-1 div.sk-parallel-item::before {content: \"\";position: absolute;border-left: 1px solid gray;box-sizing: border-box;top: 0;bottom: 0;left: 50%;z-index: -1;}#sk-container-id-1 div.sk-parallel-item {display: flex;flex-direction: column;z-index: 1;position: relative;background-color: white;}#sk-container-id-1 div.sk-parallel-item:first-child::after {align-self: flex-end;width: 50%;}#sk-container-id-1 div.sk-parallel-item:last-child::after {align-self: flex-start;width: 50%;}#sk-container-id-1 div.sk-parallel-item:only-child::after {width: 0;}#sk-container-id-1 div.sk-dashed-wrapped {border: 1px dashed gray;margin: 0 0.4em 0.5em 0.4em;box-sizing: border-box;padding-bottom: 0.4em;background-color: white;}#sk-container-id-1 div.sk-label label {font-family: monospace;font-weight: bold;display: inline-block;line-height: 1.2em;}#sk-container-id-1 div.sk-label-container {text-align: center;}#sk-container-id-1 div.sk-container {/* jupyter's `normalize.less` sets `[hidden] { display: none; }` but bootstrap.min.css set `[hidden] { display: none !important; }` so we also need the `!important` here to be able to override the default hidden behavior on the sphinx rendered scikit-learn.org. See: https://github.com/scikit-learn/scikit-learn/issues/21755 */display: inline-block !important;position: relative;}#sk-container-id-1 div.sk-text-repr-fallback {display: none;}</style><div id=\"sk-container-id-1\" class=\"sk-top-container\"><div class=\"sk-text-repr-fallback\"><pre>GradientBoostingClassifier(learning_rate=1.0, max_depth=1, random_state=0)</pre><b>In a Jupyter environment, please rerun this cell to show the HTML representation or trust the notebook. <br />On GitHub, the HTML representation is unable to render, please try loading this page with nbviewer.org.</b></div><div class=\"sk-container\" hidden><div class=\"sk-item\"><div class=\"sk-estimator sk-toggleable\"><input class=\"sk-toggleable__control sk-hidden--visually\" id=\"sk-estimator-id-1\" type=\"checkbox\" checked><label for=\"sk-estimator-id-1\" class=\"sk-toggleable__label sk-toggleable__label-arrow\">GradientBoostingClassifier</label><div class=\"sk-toggleable__content\"><pre>GradientBoostingClassifier(learning_rate=1.0, max_depth=1, random_state=0)</pre></div></div></div></div></div>"
      ],
      "text/plain": [
       "GradientBoostingClassifier(learning_rate=1.0, max_depth=1, random_state=0)"
      ]
     },
     "execution_count": 8,
     "metadata": {},
     "output_type": "execute_result"
    }
   ],
   "source": [
    "# Usamos la información restante para desarrollar el modelo \n",
    "clf.fit(entrada_ensayo, salida_ensayo)"
   ]
  },
  {
   "cell_type": "code",
   "execution_count": 9,
   "id": "a181c8ec-ce7d-43a2-a697-0006ca53669a",
   "metadata": {},
   "outputs": [
    {
     "data": {
      "text/plain": [
       "array([0, 0, 0, 0, 1, 0, 0, 0, 0, 0])"
      ]
     },
     "execution_count": 9,
     "metadata": {},
     "output_type": "execute_result"
    }
   ],
   "source": [
    "# Una vez completado el desarrollo, los parámetros del módelos son calculados, y se puede hacer estimaciones\n",
    "clf.predict(entrada_validacion)"
   ]
  },
  {
   "cell_type": "code",
   "execution_count": 10,
   "id": "2258a4fd-649b-44cc-a622-99de008d5a9a",
   "metadata": {},
   "outputs": [
    {
     "data": {
      "text/plain": [
       "[0, 0, 0, 0, 1, 0, 0, 0, 0, 0]"
      ]
     },
     "execution_count": 10,
     "metadata": {},
     "output_type": "execute_result"
    }
   ],
   "source": [
    "# Comparando la estimación con la información real\n",
    "salida_validacion"
   ]
  },
  {
   "cell_type": "code",
   "execution_count": 11,
   "id": "653a2325-ccac-4d2d-86fa-b34f19a36292",
   "metadata": {},
   "outputs": [
    {
     "data": {
      "text/plain": [
       "1.0"
      ]
     },
     "execution_count": 11,
     "metadata": {},
     "output_type": "execute_result"
    }
   ],
   "source": [
    "# Por último podemos calificar la fiabilidad del modelo\n",
    "clf.score(entrada_validacion, salida_validacion)"
   ]
  },
  {
   "cell_type": "code",
   "execution_count": null,
   "id": "8e1939a8-0083-4517-a961-b1f41549a190",
   "metadata": {},
   "outputs": [],
   "source": []
  }
 ],
 "metadata": {
  "kernelspec": {
   "display_name": "Python 3 (ipykernel)",
   "language": "python",
   "name": "python3"
  },
  "language_info": {
   "codemirror_mode": {
    "name": "ipython",
    "version": 3
   },
   "file_extension": ".py",
   "mimetype": "text/x-python",
   "name": "python",
   "nbconvert_exporter": "python",
   "pygments_lexer": "ipython3",
   "version": "3.11.5"
  }
 },
 "nbformat": 4,
 "nbformat_minor": 5
}
