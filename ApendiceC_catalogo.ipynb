{
 "cells": [
  {
   "cell_type": "code",
   "execution_count": 1,
   "id": "dc02c6ac-7aa2-441b-9a74-fd191d997f34",
   "metadata": {},
   "outputs": [],
   "source": [
    "import numpy as np\n",
    "import matplotlib.pyplot as plt\n",
    "import json"
   ]
  },
  {
   "cell_type": "code",
   "execution_count": 24,
   "id": "d5f1fc6a-c1b3-4da2-952f-1addb7f060ad",
   "metadata": {},
   "outputs": [],
   "source": [
    "entrada1 = np.random.rand(80)\n",
    "entrada2 = np.random.rand(80)\n",
    "entrada3 = np.random.rand(80)\n",
    "entrada1 = entrada1.reshape(80,1)\n",
    "entrada2 = entrada2.reshape(80,1)\n",
    "entrada3 = entrada3.reshape(80,1)\n",
    "entrada = np.hstack((np.round(entrada1,3), np.round(entrada2,3), np.round(entrada3,3)))"
   ]
  },
  {
   "cell_type": "code",
   "execution_count": 25,
   "id": "1e0103b8-d541-4aa9-a245-5c62b0dfcba3",
   "metadata": {},
   "outputs": [],
   "source": [
    "salida = []\n",
    "for e in entrada:\n",
    "    if e[0] > 0.5:\n",
    "        if e[1] > 0.5:\n",
    "            if e[2] > 0.5:\n",
    "                salida.append(0)\n",
    "            else:\n",
    "                salida.append(1)\n",
    "        else:\n",
    "            if e[2] > 0.5:\n",
    "                salida.append(2)\n",
    "            else:\n",
    "                salida.append(3)\n",
    "    else:\n",
    "        if e[1] > 0.5:\n",
    "            if e[2] > 0.5:\n",
    "                salida.append(3)\n",
    "            else:\n",
    "                salida.append(2)\n",
    "        else:\n",
    "            if e[2] > 0.5:\n",
    "                salida.append(1)\n",
    "            else:\n",
    "                salida.append(0)"
   ]
  },
  {
   "cell_type": "code",
   "execution_count": 26,
   "id": "e1da8b79-b33a-47b1-b0a1-334953bd142f",
   "metadata": {},
   "outputs": [
    {
     "data": {
      "text/plain": [
       "'[0, 0, 2, 0, 3, 2, 0, 2, 3, 1, 3, 1, 1, 3, 2, 3, 2, 3, 3, 0, 3, 3, 1, 1, 3, 2, 2, 1, 3, 2, 3, 3, 3, 1, 2, 0, 3, 1, 2, 2, 1, 1, 0, 2, 1, 3, 2, 3, 2, 1, 1, 0, 2, 1, 2, 0, 3, 3, 3, 1, 0, 2, 1, 2, 3, 1, 3, 2, 3, 3, 3, 3, 3, 3, 3, 0, 1, 0, 0, 1]'"
      ]
     },
     "execution_count": 26,
     "metadata": {},
     "output_type": "execute_result"
    }
   ],
   "source": [
    "json.dumps(salida)"
   ]
  },
  {
   "cell_type": "code",
   "execution_count": 27,
   "id": "7ca34e85-d13e-4a0f-8388-2835df25ab0e",
   "metadata": {},
   "outputs": [
    {
     "data": {
      "text/plain": [
       "'[[0.551, 0.518, 0.64], [0.79, 0.681, 0.766], [0.941, 0.031, 0.57], [0.268, 0.412, 0.398], [0.508, 0.298, 0.107], [0.812, 0.072, 0.945], [0.261, 0.031, 0.481], [0.907, 0.446, 0.699], [0.466, 0.737, 0.603], [0.417, 0.168, 0.631], [0.289, 0.718, 0.847], [0.672, 0.78, 0.263], [0.308, 0.025, 0.89], [0.846, 0.161, 0.317], [0.349, 0.74, 0.175], [0.444, 0.616, 0.843], [0.978, 0.458, 0.967], [0.676, 0.239, 0.14], [0.958, 0.122, 0.094], [0.084, 0.17, 0.061], [0.908, 0.128, 0.309], [0.064, 0.691, 0.663], [0.767, 0.686, 0.243], [0.226, 0.061, 0.667], [0.519, 0.214, 0.257], [0.007, 0.579, 0.081], [0.47, 0.983, 0.412], [0.051, 0.025, 0.573], [0.348, 0.869, 0.908], [0.17, 0.909, 0.128], [0.131, 0.821, 0.912], [0.289, 0.563, 0.773], [0.871, 0.128, 0.007], [0.094, 0.282, 0.768], [0.941, 0.115, 0.656], [0.106, 0.127, 0.002], [0.474, 0.778, 0.824], [0.069, 0.087, 0.923], [0.693, 0.4, 0.573], [0.784, 0.458, 0.808], [0.361, 0.202, 0.506], [0.857, 0.984, 0.091], [0.072, 0.274, 0.327], [0.164, 0.837, 0.143], [0.016, 0.048, 0.582], [0.719, 0.106, 0.095], [0.421, 0.865, 0.312], [0.393, 0.854, 0.852], [0.041, 0.887, 0.003], [0.71, 0.895, 0.372], [0.075, 0.266, 0.945], [0.694, 0.996, 0.949], [0.682, 0.108, 0.512], [0.372, 0.02, 0.545], [0.654, 0.026, 0.757], [0.24, 0.278, 0.043], [0.265, 0.931, 0.612], [0.295, 0.512, 0.602], [0.402, 0.961, 0.531], [0.276, 0.189, 0.685], [0.315, 0.048, 0.102], [0.292, 0.738, 0.478], [0.267, 0.182, 0.525], [0.308, 0.914, 0.354], [0.513, 0.306, 0.416], [0.161, 0.417, 0.513], [0.12, 0.755, 0.927], [0.478, 0.55, 0.37], [0.288, 0.933, 0.754], [0.057, 0.749, 0.887], [0.58, 0.485, 0.436], [0.567, 0.354, 0.016], [0.326, 0.892, 0.799], [0.037, 0.576, 0.853], [0.011, 0.876, 0.739], [0.371, 0.374, 0.266], [0.232, 0.302, 0.88], [0.821, 0.738, 0.609], [0.469, 0.205, 0.064], [0.831, 0.84, 0.26]]'"
      ]
     },
     "execution_count": 27,
     "metadata": {},
     "output_type": "execute_result"
    }
   ],
   "source": [
    "json.dumps(entrada.tolist())"
   ]
  },
  {
   "cell_type": "code",
   "execution_count": 16,
   "id": "488eae44-0763-4e67-9de8-3462e639559e",
   "metadata": {},
   "outputs": [
    {
     "data": {
      "text/plain": [
       "array([0.311, 0.385])"
      ]
     },
     "execution_count": 16,
     "metadata": {},
     "output_type": "execute_result"
    }
   ],
   "source": [
    "entrada[0]"
   ]
  },
  {
   "cell_type": "code",
   "execution_count": 23,
   "id": "de69a442-53db-44fc-ad9b-d01df17f0633",
   "metadata": {},
   "outputs": [
    {
     "data": {
      "text/plain": [
       "array([0.311, 0.275, 0.632, 0.227, 0.13 , 0.532, 0.116, 0.384, 0.771,\n",
       "       0.164, 0.179, 0.114, 0.945, 0.299, 0.795, 0.563, 0.061, 0.059,\n",
       "       0.462, 0.577, 0.61 , 0.71 , 0.87 , 0.928, 0.32 , 0.261, 0.076,\n",
       "       0.646, 0.931, 0.282, 0.505, 0.176, 0.513, 0.571, 0.339, 0.423,\n",
       "       0.701, 0.983, 0.243, 0.371, 0.614, 0.504, 0.909, 0.266, 0.534,\n",
       "       0.903, 0.801, 0.168, 0.219, 0.329, 0.273, 0.705, 0.548, 0.401,\n",
       "       0.691, 0.905, 0.12 , 0.333, 0.755, 0.322, 0.243, 0.781, 0.138,\n",
       "       0.499, 0.059, 0.874, 0.625, 0.94 , 0.974, 0.759, 0.08 , 0.533,\n",
       "       0.039, 0.496, 0.902, 0.807, 0.136, 0.572, 0.853, 0.707])"
      ]
     },
     "execution_count": 23,
     "metadata": {},
     "output_type": "execute_result"
    }
   ],
   "source": [
    "entrada.transpose()[0]"
   ]
  },
  {
   "cell_type": "code",
   "execution_count": null,
   "id": "1cdec8df-d00f-41cc-8a61-bc7b4eea42ca",
   "metadata": {},
   "outputs": [],
   "source": []
  }
 ],
 "metadata": {
  "kernelspec": {
   "display_name": "Python 3 (ipykernel)",
   "language": "python",
   "name": "python3"
  },
  "language_info": {
   "codemirror_mode": {
    "name": "ipython",
    "version": 3
   },
   "file_extension": ".py",
   "mimetype": "text/x-python",
   "name": "python",
   "nbconvert_exporter": "python",
   "pygments_lexer": "ipython3",
   "version": "3.11.5"
  }
 },
 "nbformat": 4,
 "nbformat_minor": 5
}
