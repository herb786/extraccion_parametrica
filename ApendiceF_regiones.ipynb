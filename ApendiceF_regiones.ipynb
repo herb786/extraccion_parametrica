{
 "cells": [
  {
   "cell_type": "code",
   "execution_count": 2,
   "id": "468bcf6a-06b3-4abc-8c49-1365d22ec9ff",
   "metadata": {},
   "outputs": [],
   "source": [
    "import numpy as np\n",
    "import matplotlib.pyplot as plt\n",
    "import json"
   ]
  },
  {
   "cell_type": "code",
   "execution_count": 3,
   "id": "60e51efb-1e23-4f23-98e2-5137b580dbb3",
   "metadata": {},
   "outputs": [],
   "source": [
    "muestras = 40\n",
    "factores = 2\n",
    "entrada1 = 100*np.random.rand(muestras)\n",
    "entrada2 = 100*np.random.rand(muestras)\n",
    "entrada1 = np.round(entrada1,0)\n",
    "entrada2 = np.round(entrada2,0)\n",
    "entrada1 = entrada1.reshape(muestras,1)\n",
    "entrada2 = entrada2.reshape(muestras,1)\n",
    "entrada = np.hstack((np.round(entrada1,factores), np.round(entrada2,factores)))"
   ]
  },
  {
   "cell_type": "code",
   "execution_count": 44,
   "id": "da25d976-1475-4300-847d-01e3d9c01aef",
   "metadata": {},
   "outputs": [],
   "source": [
    "salida = []\n",
    "for e in entrada:\n",
    "    if e[0] > 60:\n",
    "        if e[1] > 50:\n",
    "            salida.append(0)\n",
    "        else:\n",
    "            salida.append(1)\n",
    "    else:\n",
    "        if e[1] > 30:\n",
    "            salida.append(2)\n",
    "        else:\n",
    "            salida.append(3)"
   ]
  },
  {
   "cell_type": "code",
   "execution_count": 6,
   "id": "bcf5edd2-4773-4027-a883-469e00e5d16c",
   "metadata": {},
   "outputs": [],
   "source": [
    "salida = []\n",
    "for e in entrada:\n",
    "    if e[0] > 20 + 0.5*e[1]:\n",
    "         salida.append(0)\n",
    "    else:\n",
    "         salida.append(1)"
   ]
  },
  {
   "cell_type": "code",
   "execution_count": 7,
   "id": "7533842d-899f-462b-8f4b-1aeee5ab1eb7",
   "metadata": {},
   "outputs": [
    {
     "data": {
      "image/png": "[encoded data removed]",
      "text/plain": [
       "<Figure size 640x480 with 1 Axes>"
      ]
     },
     "metadata": {},
     "output_type": "display_data"
    }
   ],
   "source": [
    "plt.scatter(entrada1, entrada2, c=salida)\n",
    "plt.show()"
   ]
  },
  {
   "cell_type": "code",
   "execution_count": 8,
   "id": "910fa632-643a-4e6c-86b6-bd92f19f1a4a",
   "metadata": {},
   "outputs": [
    {
     "data": {
      "text/plain": [
       "'[[39.0, 24.0], [65.0, 11.0], [7.0, 59.0], [84.0, 62.0], [22.0, 93.0], [38.0, 59.0], [92.0, 22.0], [47.0, 90.0], [36.0, 89.0], [57.0, 89.0], [99.0, 13.0], [61.0, 35.0], [85.0, 59.0], [100.0, 46.0], [13.0, 76.0], [23.0, 95.0], [99.0, 18.0], [5.0, 31.0], [75.0, 78.0], [27.0, 54.0], [96.0, 73.0], [82.0, 64.0], [100.0, 68.0], [68.0, 45.0], [80.0, 90.0], [22.0, 30.0], [50.0, 40.0], [63.0, 26.0], [69.0, 51.0], [2.0, 9.0], [73.0, 74.0], [41.0, 33.0], [68.0, 16.0], [63.0, 7.0], [7.0, 91.0], [88.0, 77.0], [91.0, 31.0], [59.0, 38.0], [93.0, 49.0], [94.0, 30.0]]'"
      ]
     },
     "execution_count": 8,
     "metadata": {},
     "output_type": "execute_result"
    }
   ],
   "source": [
    "json.dumps(entrada.tolist())"
   ]
  },
  {
   "cell_type": "code",
   "execution_count": 9,
   "id": "f07ea6ec-b3fd-49d4-92db-6fb0811a70a1",
   "metadata": {},
   "outputs": [
    {
     "data": {
      "text/plain": [
       "'[0, 0, 1, 0, 1, 1, 0, 1, 1, 1, 0, 0, 0, 0, 1, 1, 0, 1, 0, 1, 0, 0, 0, 0, 0, 1, 0, 0, 0, 1, 0, 0, 0, 0, 1, 0, 0, 0, 0, 0]'"
      ]
     },
     "execution_count": 9,
     "metadata": {},
     "output_type": "execute_result"
    }
   ],
   "source": [
    "json.dumps(salida)"
   ]
  },
  {
   "cell_type": "code",
   "execution_count": 48,
   "id": "1b38c153-1a38-4f9e-9eda-e90c424806e0",
   "metadata": {},
   "outputs": [],
   "source": [
    "entrada = np.round(np.sort(100*np.random.rand(30)),2)"
   ]
  },
  {
   "cell_type": "code",
   "execution_count": 57,
   "id": "8ebd7715-a50e-4e45-9499-727e6268040b",
   "metadata": {},
   "outputs": [],
   "source": [
    "salida = np.round(50*np.sin(2*entrada) + 8*np.random.rand(30) - 0.25*entrada, 2)"
   ]
  },
  {
   "cell_type": "code",
   "execution_count": 58,
   "id": "e8b10fc4-ad7e-4b03-a37e-d3fcbd2df3b3",
   "metadata": {},
   "outputs": [
    {
     "data": {
      "text/plain": [
       "'[1.1, 11.97, 16.75, 17.53, 18.84, 20.07, 22.86, 23.97, 25.26, 26.44, 28.6, 35.09, 38.22, 43.02, 45.9, 54.94, 56.5, 57.19, 57.45, 57.75, 61.67, 65.49, 70.7, 75.34, 78.94, 79.06, 79.09, 84.15, 86.0, 93.39]'"
      ]
     },
     "execution_count": 58,
     "metadata": {},
     "output_type": "execute_result"
    }
   ],
   "source": [
    "json.dumps(entrada.tolist())"
   ]
  },
  {
   "cell_type": "code",
   "execution_count": 59,
   "id": "240f5491-8478-456b-bed0-e782e5dd407d",
   "metadata": {},
   "outputs": [
    {
     "data": {
      "text/plain": [
       "'[45.99, -41.61, 47.06, -27.14, -4.99, 31.84, 43.77, -40.59, 14.03, 26.06, 29.31, 41.42, 37.24, -52.88, -39.68, -7.75, -11.35, 38.88, 34.61, 24.62, -45.04, -52.21, -16.9, -19.8, 19.38, 30.27, 31.37, -61.99, 19.9, -71.55]'"
      ]
     },
     "execution_count": 59,
     "metadata": {},
     "output_type": "execute_result"
    }
   ],
   "source": [
    "json.dumps(salida.tolist())"
   ]
  },
  {
   "cell_type": "code",
   "execution_count": null,
   "id": "54b404a1-c83e-41e0-81cc-483cfd19cfd4",
   "metadata": {},
   "outputs": [],
   "source": []
  }
 ],
 "metadata": {
  "kernelspec": {
   "display_name": "Python 3 (ipykernel)",
   "language": "python",
   "name": "python3"
  },
  "language_info": {
   "codemirror_mode": {
    "name": "ipython",
    "version": 3
   },
   "file_extension": ".py",
   "mimetype": "text/x-python",
   "name": "python",
   "nbconvert_exporter": "python",
   "pygments_lexer": "ipython3",
   "version": "3.11.5"
  }
 },
 "nbformat": 4,
 "nbformat_minor": 5
}
