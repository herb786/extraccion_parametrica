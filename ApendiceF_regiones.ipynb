{
 "cells": [
  {
   "cell_type": "code",
   "execution_count": 1,
   "id": "468bcf6a-06b3-4abc-8c49-1365d22ec9ff",
   "metadata": {},
   "outputs": [],
   "source": [
    "import numpy as np\n",
    "import matplotlib.pyplot as plt\n",
    "import json"
   ]
  },
  {
   "cell_type": "code",
   "execution_count": 32,
   "id": "60e51efb-1e23-4f23-98e2-5137b580dbb3",
   "metadata": {},
   "outputs": [],
   "source": [
    "muestras = 80\n",
    "factores = 2\n",
    "entrada1 = 98*np.random.rand(muestras)\n",
    "entrada2 = 98*np.random.rand(muestras)\n",
    "entrada1 = np.round(entrada1,0).astype(int)\n",
    "entrada2 = np.round(entrada2,0).astype(int)\n",
    "entrada1 = entrada1.reshape(muestras,1)\n",
    "entrada2 = entrada2.reshape(muestras,1)\n",
    "entrada = np.hstack((np.round(entrada1,factores), np.round(entrada2,factores)))"
   ]
  },
  {
   "cell_type": "code",
   "execution_count": 33,
   "id": "da25d976-1475-4300-847d-01e3d9c01aef",
   "metadata": {},
   "outputs": [],
   "source": [
    "salida = []\n",
    "for e in entrada:\n",
    "    if e[0] > 60:\n",
    "        if e[1] > 50:\n",
    "            salida.append(0)\n",
    "        else:\n",
    "            salida.append(1)\n",
    "    else:\n",
    "        if e[1] > 30:\n",
    "            salida.append(2)\n",
    "        else:\n",
    "            salida.append(3)"
   ]
  },
  {
   "cell_type": "code",
   "execution_count": 34,
   "id": "bcf5edd2-4773-4027-a883-469e00e5d16c",
   "metadata": {},
   "outputs": [],
   "source": [
    "salida = []\n",
    "for e in entrada:\n",
    "    if e[0] > 1 + 1.115*e[1]:\n",
    "         salida.append(0)\n",
    "    else:\n",
    "         salida.append(1)"
   ]
  },
  {
   "cell_type": "code",
   "execution_count": 35,
   "id": "7533842d-899f-462b-8f4b-1aeee5ab1eb7",
   "metadata": {},
   "outputs": [
    {
     "data": {
      "image/png": "[encoded data removed]",
      "text/plain": [
       "<Figure size 640x480 with 1 Axes>"
      ]
     },
     "metadata": {},
     "output_type": "display_data"
    }
   ],
   "source": [
    "plt.scatter(entrada1, entrada2, c=salida)\n",
    "plt.show()"
   ]
  },
  {
   "cell_type": "code",
   "execution_count": 36,
   "id": "910fa632-643a-4e6c-86b6-bd92f19f1a4a",
   "metadata": {},
   "outputs": [
    {
     "data": {
      "text/plain": [
       "'[[88, 24], [18, 40], [27, 22], [54, 57], [37, 55], [57, 86], [25, 30], [37, 82], [23, 94], [9, 47], [14, 89], [45, 88], [66, 65], [87, 26], [46, 2], [46, 95], [15, 18], [81, 15], [70, 9], [83, 24], [22, 51], [70, 33], [45, 87], [52, 19], [21, 66], [92, 7], [88, 9], [53, 11], [57, 54], [65, 88], [79, 6], [13, 95], [2, 68], [90, 4], [68, 27], [15, 14], [73, 89], [35, 26], [40, 46], [76, 95], [87, 0], [39, 95], [98, 89], [60, 66], [72, 41], [5, 70], [30, 29], [84, 23], [24, 79], [42, 65], [21, 71], [79, 4], [33, 36], [15, 85], [80, 64], [29, 6], [64, 15], [49, 69], [27, 12], [30, 56], [72, 27], [44, 23], [71, 67], [24, 75], [2, 84], [65, 93], [6, 50], [94, 7], [17, 96], [73, 63], [24, 37], [86, 38], [82, 88], [14, 97], [96, 37], [56, 54], [97, 41], [15, 48], [97, 35], [89, 27]]'"
      ]
     },
     "execution_count": 36,
     "metadata": {},
     "output_type": "execute_result"
    }
   ],
   "source": [
    "json.dumps(entrada.tolist())"
   ]
  },
  {
   "cell_type": "code",
   "execution_count": 37,
   "id": "f07ea6ec-b3fd-49d4-92db-6fb0811a70a1",
   "metadata": {},
   "outputs": [
    {
     "data": {
      "text/plain": [
       "'[0, 1, 0, 1, 1, 1, 1, 1, 1, 1, 1, 1, 1, 0, 0, 1, 1, 0, 0, 0, 1, 0, 1, 0, 1, 0, 0, 0, 1, 1, 0, 1, 1, 0, 0, 1, 1, 0, 1, 1, 0, 1, 1, 1, 0, 1, 1, 0, 1, 1, 1, 0, 1, 1, 0, 0, 0, 1, 0, 1, 0, 0, 1, 1, 1, 1, 1, 0, 1, 0, 1, 0, 1, 1, 0, 1, 0, 1, 0, 0]'"
      ]
     },
     "execution_count": 37,
     "metadata": {},
     "output_type": "execute_result"
    }
   ],
   "source": [
    "json.dumps(salida)"
   ]
  },
  {
   "cell_type": "code",
   "execution_count": 28,
   "id": "1b38c153-1a38-4f9e-9eda-e90c424806e0",
   "metadata": {},
   "outputs": [],
   "source": [
    "entrada = np.round(np.sort(100*np.random.rand(30)),2)"
   ]
  },
  {
   "cell_type": "code",
   "execution_count": 29,
   "id": "8ebd7715-a50e-4e45-9499-727e6268040b",
   "metadata": {},
   "outputs": [],
   "source": [
    "salida = np.round(50*np.sin(2*entrada) + 8*np.random.rand(30) - 0.25*entrada, 2)"
   ]
  },
  {
   "cell_type": "code",
   "execution_count": 30,
   "id": "e8b10fc4-ad7e-4b03-a37e-d3fcbd2df3b3",
   "metadata": {},
   "outputs": [
    {
     "data": {
      "text/plain": [
       "'[0.12, 3.01, 5.09, 6.3, 10.94, 22.5, 27.49, 30.1, 31.29, 32.66, 32.99, 33.28, 34.08, 39.42, 40.46, 42.53, 44.52, 50.17, 52.93, 54.23, 63.34, 64.54, 68.88, 70.63, 76.08, 78.5, 81.01, 86.87, 87.12, 89.67]'"
      ]
     },
     "execution_count": 30,
     "metadata": {},
     "output_type": "execute_result"
    }
   ],
   "source": [
    "json.dumps(entrada.tolist())"
   ]
  },
  {
   "cell_type": "code",
   "execution_count": 31,
   "id": "240f5491-8478-456b-bed0-e782e5dd407d",
   "metadata": {},
   "outputs": [
    {
     "data": {
      "text/plain": [
       "'[19.31, -9.7, -34.18, 2.35, 10.58, 39.98, -56.76, -30.82, -19.82, 22.52, -6.33, -28.14, -46.88, -17.84, -40.11, -18.23, 39.78, -14.57, -49.7, 43.67, 27.17, -27.5, -35.2, -8.3, 31.87, -15.76, -67.3, -55.28, -71.07, -30.64]'"
      ]
     },
     "execution_count": 31,
     "metadata": {},
     "output_type": "execute_result"
    }
   ],
   "source": [
    "json.dumps(salida.tolist())"
   ]
  },
  {
   "cell_type": "code",
   "execution_count": null,
   "id": "54b404a1-c83e-41e0-81cc-483cfd19cfd4",
   "metadata": {},
   "outputs": [],
   "source": []
  }
 ],
 "metadata": {
  "kernelspec": {
   "display_name": "Python 3 (ipykernel)",
   "language": "python",
   "name": "python3"
  },
  "language_info": {
   "codemirror_mode": {
    "name": "ipython",
    "version": 3
   },
   "file_extension": ".py",
   "mimetype": "text/x-python",
   "name": "python",
   "nbconvert_exporter": "python",
   "pygments_lexer": "ipython3",
   "version": "3.11.5"
  }
 },
 "nbformat": 4,
 "nbformat_minor": 5
}
